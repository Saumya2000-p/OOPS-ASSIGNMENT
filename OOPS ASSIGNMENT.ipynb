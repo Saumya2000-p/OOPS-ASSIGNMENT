{
  "metadata": {
    "kernelspec": {
      "name": "python",
      "display_name": "Python (Pyodide)",
      "language": "python"
    },
    "language_info": {
      "codemirror_mode": {
        "name": "python",
        "version": 3
      },
      "file_extension": ".py",
      "mimetype": "text/x-python",
      "name": "python",
      "nbconvert_exporter": "python",
      "pygments_lexer": "ipython3",
      "version": "3.8"
    }
  },
  "nbformat_minor": 4,
  "nbformat": 4,
  "cells": [
    {
      "cell_type": "raw",
      "source": "### OOPS ASSIGNMENT ###",
      "metadata": {}
    },
    {
      "cell_type": "code",
      "source": "1. What are the five key concepts of Object-Oriented Programming (OOP)?\n2. Write a Python class for a `Car` with attributes for `make`, `model`, and `year`. Include a method to display the car's information.\n3. Explain the difference between instance methods and class methods. Provide an example of each.\n4. How does Python implement method overloading? Give an example.\n5. What are the three types of access modifiers in Python? How are they denoted?\n6. Describe the five types of inheritance in Python. Provide a simple example of multiple inheritance.\n7. What is the Method Resolution Order (MRO) in Python? How can you retrieve it programmatically?\n8. Create an abstract base class `Shape` with an abstract method `area()`. Then create two subclasses `Circle` and `Rectangle` that implement the `area()` method.\n9. Demonstrate polymorphism by creating a function that can work with different shape objects to calculate and print their areas.\n10. Implement encapsulation in a `BankAccount` class with private attributes for `balance` and `account_number`. Include methods for deposit, withdrawal, and balance inquiry.\n11. Write a class that overrides the `__str__` and `__add__` magic methods. What will these methods allow you to do?\n12. Create a decorator that measures and prints the execution time of a function.\n13. Explain the concept of the Diamond Problem in multiple inheritance. How does Python resolve it?\n14. Write a class method that keeps track of the number of instances created from a class.\n15. Implement a static method in a class that checks if a given year is a leap year.",
      "metadata": {
        "trusted": true
      },
      "outputs": [],
      "execution_count": null
    },
    {
      "cell_type": "raw",
      "source": "Answer1. What are the five key concepts of Object-Oriented Programming (OOP)?",
      "metadata": {}
    },
    {
      "cell_type": "code",
      "source": "The five key concepts of Object-Oriented Programming (OOP) are:\n1. **Encapsulation**: This principle involves bundling the data (attributes) and the methods (functions) that operate on that data into a single unit, or object. It restricts direct access to some of an object's components, which helps prevent unintended interference and misuse.\n2. **Abstraction**: Abstraction focuses on hiding the complex implementation details of a system and exposing only the necessary and relevant features. This allows users to interact with objects at a higher level without needing to understand the intricacies of their inner workings.\n3. **Inheritance**: This concept allows a new class (subclass or derived class) to inherit attributes and methods from an existing class (superclass or base class). Inheritance promotes code reuse and establishes a hierarchical relationship between classes.\n4. **Polymorphism**: Polymorphism enables objects of different classes to be treated as objects of a common superclass. It allows methods to be defined in multiple forms, enabling a single interface to represent different underlying forms (data types).\n5. **Composition**: This principle refers to building complex types by combining simpler objects. Instead of inheriting behavior from a parent class, a class can contain instances of other classes, allowing for greater flexibility and modularity in design.\n\nThese concepts work together to create a more organized, reusable, and maintainable code structure in software development.",
      "metadata": {
        "trusted": true
      },
      "outputs": [],
      "execution_count": null
    },
    {
      "cell_type": "raw",
      "source": "Answer2. Write a Python class for a `Car` with attributes for `make`, `model`, and `year`. Include a method to display the car's information.",
      "metadata": {}
    },
    {
      "cell_type": "code",
      "source": "Here's a simple Python class for a Car that includes the specified attributes and a method to display the car's information:",
      "metadata": {
        "trusted": true
      },
      "outputs": [],
      "execution_count": null
    },
    {
      "cell_type": "code",
      "source": "class Car:\n    def __init__(self, make, model, year):\n        self.make = make\n        self.model = model\n        self.year = year\n\n    def display_info(self):\n        print(f\"Car Information:\\nMake: {self.make}\\nModel: {self.model}\\nYear: {self.year}\")\n\n# Example usage:\nmy_car = Car(\"Toyota\", \"Corolla\", 2020)\nmy_car.display_info()",
      "metadata": {
        "trusted": true
      },
      "outputs": [
        {
          "name": "stdout",
          "text": "Car Information:\nMake: Toyota\nModel: Corolla\nYear: 2020\n",
          "output_type": "stream"
        }
      ],
      "execution_count": 1
    },
    {
      "cell_type": "code",
      "source": "In this class:\n* The __init__ method initializes the make, model, and year attributes.\n* The display_info method prints the car's information in a readable format.\nYou can create an instance of Car and call display_info to see the details.",
      "metadata": {
        "trusted": true
      },
      "outputs": [],
      "execution_count": null
    },
    {
      "cell_type": "raw",
      "source": "Answer3. Explain the difference between instance methods and class methods. Provide an example of each.",
      "metadata": {}
    },
    {
      "cell_type": "code",
      "source": "In Python, the main difference between instance methods and class methods lies in how they are called and what they operate on.\nInstance Methods\n* Definition: Instance methods are defined to operate on instances of the class. They take the instance (self) as the first parameter, which allows them to access instance attributes and other instance methods.\n* Usage: These methods are used to perform actions or retrieve information related to a specific instance of the class.\n\nExample of an Instance Method:",
      "metadata": {
        "trusted": true
      },
      "outputs": [],
      "execution_count": null
    },
    {
      "cell_type": "code",
      "source": "class Dog:\n    def __init__(self, name):\n        self.name = name\n\n    def bark(self):\n        return f\"{self.name} says Woof!\"\n\n# Creating an instance\nmy_dog = Dog(\"Buddy\")\nprint(my_dog.bark()) ",
      "metadata": {
        "trusted": true
      },
      "outputs": [
        {
          "name": "stdout",
          "text": "Buddy says Woof!\n",
          "output_type": "stream"
        }
      ],
      "execution_count": 2
    },
    {
      "cell_type": "code",
      "source": "Class Methods\n* Definition: Class methods are defined with the @classmethod decorator and take the class itself (cls) as the first parameter. They can access class attributes and methods but not instance-specific data.\n* Usage: These methods are typically used for factory methods that return an instance of the class, or for operations that are relevant to the class as a whole rather than any particular instance.\n\nExample of a Class Method:",
      "metadata": {
        "trusted": true
      },
      "outputs": [],
      "execution_count": null
    },
    {
      "cell_type": "code",
      "source": "class Dog:\n    species = \"Canis lupus familiaris\"\n\n    @classmethod\n    def get_species(cls):\n        return cls.species\n\n# Calling the class method\nprint(Dog.get_species()) ",
      "metadata": {
        "trusted": true
      },
      "outputs": [
        {
          "name": "stdout",
          "text": "Canis lupus familiaris\n",
          "output_type": "stream"
        }
      ],
      "execution_count": 3
    },
    {
      "cell_type": "code",
      "source": "###Summary\n* Instance methods are called on an instance and can access instance data.\n* Class methods are called on the class itself and can access class-level data but not instance-specific data.\n\nBoth types of methods serve different purposes in object-oriented programming.",
      "metadata": {
        "trusted": true
      },
      "outputs": [],
      "execution_count": null
    },
    {
      "cell_type": "raw",
      "source": "Answer4. How does Python implement method overloading? Give an example.",
      "metadata": {}
    },
    {
      "cell_type": "code",
      "source": "Python does not support traditional method overloading as seen in some other programming languages like Java or C++. In those languages, you can define multiple methods with the same name but different parameters. In Python, if you define a method with the same name multiple times in a class, the last definition will override the previous ones.\n\nHowever, you can achieve similar behavior by using default arguments or variable-length arguments (*args and **kwargs). This allows you to create methods that can accept a varying number of arguments.\n\nExample of Method Overloading Using Default Arguments\nHere's an example that demonstrates how to simulate method overloading using default arguments:",
      "metadata": {
        "trusted": true
      },
      "outputs": [],
      "execution_count": null
    },
    {
      "cell_type": "code",
      "source": "class Calculator:\n    def add(self, a, b, c=0):\n        return a + b + c\n\n# Creating an instance of Calculator\ncalc = Calculator()\n\n# Using the add method with different numbers of arguments\nresult1 = calc.add(2, 3)      # Two arguments\nresult2 = calc.add(2, 3, 4)   # Three arguments\n\nprint(result1)  \nprint(result2)  ",
      "metadata": {
        "trusted": true
      },
      "outputs": [
        {
          "name": "stdout",
          "text": "5\n9\n",
          "output_type": "stream"
        }
      ],
      "execution_count": 4
    },
    {
      "cell_type": "code",
      "source": "Example of Method Overloading Using Variable-Length Arguments\nYou can also use *args to handle any number of arguments:",
      "metadata": {
        "trusted": true
      },
      "outputs": [],
      "execution_count": null
    },
    {
      "cell_type": "code",
      "source": "class Calculator:\n    def add(self, *args):\n        return sum(args)\n\n# Creating an instance of Calculator\ncalc = Calculator()\n\n# Using the add method with different numbers of arguments\nresult1 = calc.add(2, 3)          # Two arguments\nresult2 = calc.add(2, 3, 4, 5)    # Four arguments\n\nprint(result1)  \nprint(result2)  ",
      "metadata": {
        "trusted": true
      },
      "outputs": [
        {
          "name": "stdout",
          "text": "5\n14\n",
          "output_type": "stream"
        }
      ],
      "execution_count": 5
    },
    {
      "cell_type": "code",
      "source": "###Summary\nWhile Python does not have built-in method overloading, you can effectively achieve similar functionality using default parameters or variable-length\narguments. This allows for flexibility in how methods can be called with varying numbers of arguments.",
      "metadata": {
        "trusted": true
      },
      "outputs": [],
      "execution_count": null
    },
    {
      "cell_type": "raw",
      "source": "Answer5. What are the three types of access modifiers in Python? How are they denoted?",
      "metadata": {}
    },
    {
      "cell_type": "code",
      "source": "In Python, there are three main types of access modifiers that control the visibility and accessibility of class attributes and methods. These are:\n\n1. Public\n* Definition: Public members are accessible from anywhere, both inside and outside the class.\n* Denotation: Public members do not have any special prefix.",
      "metadata": {
        "trusted": true
      },
      "outputs": [],
      "execution_count": null
    },
    {
      "cell_type": "code",
      "source": "class Example:\n    def __init__(self):\n        self.public_attribute = \"I am public\"\n\n# Usage\nobj = Example()\nprint(obj.public_attribute) ",
      "metadata": {
        "trusted": true
      },
      "outputs": [
        {
          "name": "stdout",
          "text": "I am public\n",
          "output_type": "stream"
        }
      ],
      "execution_count": 6
    },
    {
      "cell_type": "code",
      "source": "2. Protected\n* Definition: Protected members are intended to be accessed only within the class and by subclasses. They are not meant to be accessed directly from outside the class.\n* Denotation: Protected members are denoted by a single underscore prefix (_).",
      "metadata": {
        "trusted": true
      },
      "outputs": [],
      "execution_count": null
    },
    {
      "cell_type": "code",
      "source": "class Example:\n    def __init__(self):\n        self._protected_attribute = \"I am protected\"\n\nclass SubExample(Example):\n    def access_protected(self):\n        return self._protected_attribute\n\n# Usage\nobj = SubExample()\nprint(obj.access_protected()) ",
      "metadata": {
        "trusted": true
      },
      "outputs": [
        {
          "name": "stdout",
          "text": "I am protected\n",
          "output_type": "stream"
        }
      ],
      "execution_count": 7
    },
    {
      "cell_type": "code",
      "source": "3. Private\n* Definition: Private members are accessible only within the class itself and are not accessible from subclasses or outside the class.\n* Denotation: Private members are denoted by a double underscore prefix (__).",
      "metadata": {
        "trusted": true
      },
      "outputs": [],
      "execution_count": null
    },
    {
      "cell_type": "code",
      "source": "class Example:\n    def __init__(self):\n        self.__private_attribute = \"I am private\"\n\n    def get_private(self):\n        return self.__private_attribute\n\n# Usage\nobj = Example()\nprint(obj.get_private()) \n# Trying to access the private attribute directly will raise an AttributeError\n# print(obj.__private_attribute)  # Raises AttributeError ",
      "metadata": {
        "trusted": true
      },
      "outputs": [
        {
          "name": "stdout",
          "text": "I am private\n",
          "output_type": "stream"
        }
      ],
      "execution_count": 8
    },
    {
      "cell_type": "code",
      "source": "### Summary\n*Public: No prefix (accessible everywhere).\n*Protected: Single underscore prefix (_) (accessible within the class and subclasses).\n*Private: Double underscore prefix (__) (accessible only within the class).\n\nThese access modifiers help enforce encapsulation, a key principle in object-oriented programming.",
      "metadata": {
        "trusted": true
      },
      "outputs": [],
      "execution_count": null
    },
    {
      "cell_type": "raw",
      "source": "Answer6. Describe the five types of inheritance in Python. Provide a simple example of multiple inheritance.",
      "metadata": {}
    },
    {
      "cell_type": "code",
      "source": "In Python, there are five common types of inheritance:\n\n1. Single Inheritance\nThis is when a class (subclass) inherits from one parent class (superclass).",
      "metadata": {
        "trusted": true
      },
      "outputs": [],
      "execution_count": null
    },
    {
      "cell_type": "code",
      "source": "class Animal:\n    def speak(self):\n        return \"Animal speaks\"\n\nclass Dog(Animal):\n    def bark(self):\n        return \"Woof!\"\n\ndog = Dog()\nprint(dog.speak())  \nprint(dog.bark()) ",
      "metadata": {
        "trusted": true
      },
      "outputs": [
        {
          "name": "stdout",
          "text": "Animal speaks\nWoof!\n",
          "output_type": "stream"
        }
      ],
      "execution_count": 9
    },
    {
      "cell_type": "code",
      "source": "2. Multiple Inheritance\nThis occurs when a class inherits from more than one parent class. The subclass can access attributes and methods from all parent classes.",
      "metadata": {
        "trusted": true
      },
      "outputs": [],
      "execution_count": null
    },
    {
      "cell_type": "code",
      "source": "class Flyer:\n    def fly(self):\n        return \"Flying high!\"\n\nclass Swimmer:\n    def swim(self):\n        return \"Swimming fast!\"\n\nclass Duck(Flyer, Swimmer):\n    def quack(self):\n        return \"Quack!\"\n\nduck = Duck()\nprint(duck.fly())  \nprint(duck.swim())  \nprint(duck.quack()) ",
      "metadata": {
        "trusted": true
      },
      "outputs": [
        {
          "name": "stdout",
          "text": "Flying high!\nSwimming fast!\nQuack!\n",
          "output_type": "stream"
        }
      ],
      "execution_count": 10
    },
    {
      "cell_type": "code",
      "source": "3. Multilevel Inheritance\nIn this type, a class is derived from another derived class, forming a chain of inheritance.",
      "metadata": {
        "trusted": true
      },
      "outputs": [],
      "execution_count": null
    },
    {
      "cell_type": "code",
      "source": "class Animal:\n    def speak(self):\n        return \"Animal speaks\"\n\nclass Dog(Animal):\n    def bark(self):\n        return \"Woof!\"\n\nclass Puppy(Dog):\n    def weep(self):\n        return \"Whimper!\"\n\npuppy = Puppy()\nprint(puppy.speak())  \nprint(puppy.bark())   \nprint(puppy.weep())   ",
      "metadata": {
        "trusted": true
      },
      "outputs": [
        {
          "name": "stdout",
          "text": "Animal speaks\nWoof!\nWhimper!\n",
          "output_type": "stream"
        }
      ],
      "execution_count": 11
    },
    {
      "cell_type": "code",
      "source": "4. Hierarchical Inheritance\nThis occurs when multiple subclasses inherit from a single parent class.",
      "metadata": {
        "trusted": true
      },
      "outputs": [],
      "execution_count": null
    },
    {
      "cell_type": "code",
      "source": "class Animal:\n    def speak(self):\n        return \"Animal speaks\"\n\nclass Dog(Animal):\n    def bark(self):\n        return \"Woof!\"\n\nclass Cat(Animal):\n    def meow(self):\n        return \"Meow!\"\n\ndog = Dog()\ncat = Cat()\nprint(dog.speak())  \nprint(cat.speak())   ",
      "metadata": {
        "trusted": true
      },
      "outputs": [
        {
          "name": "stdout",
          "text": "Animal speaks\nAnimal speaks\n",
          "output_type": "stream"
        }
      ],
      "execution_count": 12
    },
    {
      "cell_type": "code",
      "source": "5. Hybrid Inheritance\nThis is a combination of two or more types of inheritance. It can involve multiple and multilevel inheritance in a single hierarchy.",
      "metadata": {
        "trusted": true
      },
      "outputs": [],
      "execution_count": null
    },
    {
      "cell_type": "code",
      "source": "class Animal:\n    def speak(self):\n        return \"Animal speaks\"\n\nclass Bird(Animal):\n    def fly(self):\n        return \"Flying!\"\n\nclass Fish(Animal):\n    def swim(self):\n        return \"Swimming!\"\n\nclass Duck(Bird, Fish):\n    def quack(self):\n        return \"Quack!\"\n\nduck = Duck()\nprint(duck.speak())  \nprint(duck.fly())    \nprint(duck.swim())   \nprint(duck.quack())  ",
      "metadata": {
        "trusted": true
      },
      "outputs": [
        {
          "name": "stdout",
          "text": "Animal speaks\nFlying!\nSwimming!\nQuack!\n",
          "output_type": "stream"
        }
      ],
      "execution_count": 13
    },
    {
      "cell_type": "code",
      "source": "###Summary\n* Single Inheritance: One subclass inherits from one superclass.\n* Multiple Inheritance: One subclass inherits from multiple superclasses.\n* Multilevel Inheritance: A chain of inheritance where a subclass inherits from another subclass.\n* Hierarchical Inheritance: Multiple subclasses inherit from a single superclass.\n* Hybrid Inheritance: A mix of two or more inheritance types.\n    \nThese inheritance types allow for flexible and organized code structures in object-oriented programming.",
      "metadata": {
        "trusted": true
      },
      "outputs": [],
      "execution_count": null
    },
    {
      "cell_type": "raw",
      "source": "Answer7. What is the Method Resolution Order (MRO) in Python? How can you retrieve it programmatically?",
      "metadata": {}
    },
    {
      "cell_type": "code",
      "source": "Method Resolution Order (MRO) in Python refers to the order in which classes are searched when calling a method or accessing an attribute. This is particularly important in multiple inheritance scenarios, where a method might be defined in more than one parent class. The MRO determines which method is called first.\n\nPython uses the C3 linearization algorithm (also known as C3 superclass linearization) to compute the MRO. The algorithm ensures that:\n1. A class appears before its parents.\n2. Parents are resolved from left to right.\n\n*How to Retrieve MRO Programmatically*\nYou can retrieve the MRO of a class using the mro() method or the __mro__ attribute. Here’s how you can do it:",
      "metadata": {
        "trusted": true
      },
      "outputs": [],
      "execution_count": null
    },
    {
      "cell_type": "code",
      "source": "class A:\n    pass\n\nclass B(A):\n    pass\n\nclass C(A):\n    pass\n\nclass D(B, C):\n    pass\n\n# Retrieve MRO using the mro() method\nprint(D.mro())  \n# Retrieve MRO using the __mro__ attribute\nprint(D.__mro__)  ",
      "metadata": {
        "trusted": true
      },
      "outputs": [
        {
          "name": "stdout",
          "text": "[<class '__main__.D'>, <class '__main__.B'>, <class '__main__.C'>, <class '__main__.A'>, <class 'object'>]\n(<class '__main__.D'>, <class '__main__.B'>, <class '__main__.C'>, <class '__main__.A'>, <class 'object'>)\n",
          "output_type": "stream"
        }
      ],
      "execution_count": 14
    },
    {
      "cell_type": "code",
      "source": "Explanation of the Output\nIn the MRO output for class D:\n* D is checked first.\n* Then B, followed by C, and finally A.\n* The built-in object class is the last in the resolution order since all classes in Python ultimately inherit from object.\n\nUnderstanding MRO is crucial for correctly using multiple inheritance and ensuring that methods are resolved in the expected order.",
      "metadata": {
        "trusted": true
      },
      "outputs": [],
      "execution_count": null
    },
    {
      "cell_type": "raw",
      "source": "Answer8. Create an abstract base class `Shape` with an abstract method `area()`. Then create two subclasses `Circle` and `Rectangle` that implement the `area()` method.",
      "metadata": {}
    },
    {
      "cell_type": "code",
      "source": "Certainly! Below is an implementation of an abstract base class Shape with an abstract method area(), along with two subclasses Circle and Rectangle that implement this method.\n\n### Implementation",
      "metadata": {
        "trusted": true
      },
      "outputs": [],
      "execution_count": null
    },
    {
      "cell_type": "code",
      "source": "from abc import ABC, abstractmethod\nimport math\n\n# Abstract Base Class\nclass Shape(ABC):\n    @abstractmethod\n    def area(self):\n        pass\n\n# Subclass for Circle\nclass Circle(Shape):\n    def __init__(self, radius):\n        self.radius = radius\n\n    def area(self):\n        return math.pi * (self.radius ** 2)\n\n# Subclass for Rectangle\nclass Rectangle(Shape):\n    def __init__(self, width, height):\n        self.width = width\n        self.height = height\n\n    def area(self):\n        return self.width * self.height\n\n# Example Usage\ncircle = Circle(5)\nrectangle = Rectangle(4, 6)\n\nprint(f\"Area of the Circle: {circle.area():.2f}\")       \nprint(f\"Area of the Rectangle: {rectangle.area():.2f}\") ",
      "metadata": {
        "trusted": true
      },
      "outputs": [
        {
          "name": "stdout",
          "text": "Area of the Circle: 78.54\nArea of the Rectangle: 24.00\n",
          "output_type": "stream"
        }
      ],
      "execution_count": 15
    },
    {
      "cell_type": "code",
      "source": "*Explanation*\n1. Abstract Base Class:\n* Shape is defined as an abstract base class by inheriting from ABC.\n* The area() method is decorated with @abstractmethod, which means that any subclass must implement this method.\n\n2. Circle Class:\n* Inherits from Shape.\n* Implements the area() method to calculate the area of a circle using the formula 𝜋𝑟2.\n    \n3. Rectangle Class:\n* Also inherits from Shape.\n* Implements the area() method to calculate the area of a rectangle using the formula width×height.\n\n*Example Usage*\n* An instance of Circle is created with a radius of 5, and an instance of Rectangle is created with width 4 and height 6.\n* The areas are calculated and printed using the implemented area() methods.\n\nThis structure ensures that any shape derived from the Shape class must provide its own implementation of the area() method.",
      "metadata": {
        "trusted": true
      },
      "outputs": [],
      "execution_count": null
    },
    {
      "cell_type": "raw",
      "source": "Answer9. Demonstrate polymorphism by creating a function that can work with different shape objects to calculate and print their areas.",
      "metadata": {}
    },
    {
      "cell_type": "code",
      "source": "Polymorphism allows methods to perform differently based on the object that it is acting upon. Below is an example in Python where we define a base\nclass Shape and various derived classes (Circle, Rectangle, and Triangle) that implement a method to calculate their areas.",
      "metadata": {
        "trusted": true
      },
      "outputs": [],
      "execution_count": null
    },
    {
      "cell_type": "code",
      "source": "import math\n\nclass Shape:\n    def area(self):\n        raise NotImplementedError(\"Subclasses must implement this method.\")\n\nclass Circle(Shape):\n    def __init__(self, radius):\n        self.radius = radius\n\n    def area(self):\n        return math.pi * (self.radius ** 2)\n\nclass Rectangle(Shape):\n    def __init__(self, width, height):\n        self.width = width\n        self.height = height\n\n    def area(self):\n        return self.width * self.height\n\nclass Triangle(Shape):\n    def __init__(self, base, height):\n        self.base = base\n        self.height = height\n\n    def area(self):\n        return 0.5 * self.base * self.height\n\ndef print_area(shape):\n    print(f\"The area is: {shape.area()}\")\n\n# Creating instances of different shapes\ncircle = Circle(radius=5)\nrectangle = Rectangle(width=4, height=6)\ntriangle = Triangle(base=3, height=4)\n\n# Using the polymorphic function to print areas\nprint_area(circle)      \nprint_area(rectangle)   \nprint_area(triangle)    ",
      "metadata": {
        "trusted": true
      },
      "outputs": [
        {
          "name": "stdout",
          "text": "The area is: 78.53981633974483\nThe area is: 24\nThe area is: 6.0\n",
          "output_type": "stream"
        }
      ],
      "execution_count": 1
    },
    {
      "cell_type": "code",
      "source": "Explanation:\n*Base Class (Shape): This is an abstract class that defines a method area(), which must be implemented by all subclasses.\n* Derived Classes (Circle, Rectangle, Triangle): Each class defines its own area() method to calculate the area specific to its shape.\n* Polymorphic Function (print_area): This function takes a Shape object and calls its area() method. It can work with any subclass of Shape, demonstrating polymorphism.\n\nYou can create additional shapes easily by inheriting from Shape and implementing the area() method, making the code extensible and easy to maintain!",
      "metadata": {
        "trusted": true
      },
      "outputs": [],
      "execution_count": null
    },
    {
      "cell_type": "raw",
      "source": "Answer10. Implement encapsulation in a `BankAccount` class with private attributes for `balance` and `account_number`. Include methods for deposit, withdrawal, and balance inquiry.",
      "metadata": {}
    },
    {
      "cell_type": "code",
      "source": "Encapsulation is a fundamental principle in object-oriented programming that restricts direct access to some of an object's components. In this\nexample, I'll create a BankAccount class with private attributes for balance and account_number, along with methods for deposit, withdrawal, and\nbalance inquiry.",
      "metadata": {
        "trusted": true
      },
      "outputs": [],
      "execution_count": null
    },
    {
      "cell_type": "code",
      "source": "class BankAccount:\n    def __init__(self, account_number, initial_balance=0):\n        self.__account_number = account_number  # Private attribute\n        self.__balance = initial_balance         # Private attribute\n\n    def deposit(self, amount):\n        if amount > 0:\n            self.__balance += amount\n            print(f\"Deposited: {amount}. New balance: {self.__balance}\")\n        else:\n            print(\"Deposit amount must be positive.\")\n\n    def withdraw(self, amount):\n        if 0 < amount <= self.__balance:\n            self.__balance -= amount\n            print(f\"Withdrew: {amount}. New balance: {self.__balance}\")\n        else:\n            print(\"Insufficient funds or invalid amount.\")\n\n    def get_balance(self):\n        return self.__balance\n\n    def get_account_number(self):\n        return self.__account_number\n\n# Example usage\naccount = BankAccount(\"123456789\", 1000)\n\n# Deposit money\naccount.deposit(200)          # Deposited: 200. New balance: 1200\n\n# Withdraw money\naccount.withdraw(150)        # Withdrew: 150. New balance: 1050\n\n# Check balance\nprint(f\"Current balance: {account.get_balance()}\")  # Current balance: 1050\n\n# Attempt to withdraw more than balance\naccount.withdraw(1200)       # Insufficient funds or invalid amount.\n\n# Accessing private attributes directly will raise an AttributeError\n# print(account.__balance)  # This will raise an error",
      "metadata": {
        "trusted": true
      },
      "outputs": [
        {
          "name": "stdout",
          "text": "Deposited: 200. New balance: 1200\nWithdrew: 150. New balance: 1050\nCurrent balance: 1050\nInsufficient funds or invalid amount.\n",
          "output_type": "stream"
        }
      ],
      "execution_count": 2
    },
    {
      "cell_type": "code",
      "source": "Explanation:\n1. Private Attributes: The balance and account_number attributes are prefixed with double underscores (__) to make them private. This restricts direct access from outside the class.\n2. Methods:\n* deposit(amount): Increases the balance if the deposit amount is positive.\n* withdraw(amount): Decreases the balance if there are sufficient funds and the withdrawal amount is valid.\n* get_balance(): Returns the current balance.\n* get_account_number(): Returns the account number.\n3. Example Usage: The code demonstrates creating an account, depositing money, withdrawing money, and checking the balance.\n\nThis design ensures that the internal state of the BankAccount is protected from unintended modifications, adhering to the principle of encapsulation.",
      "metadata": {
        "trusted": true
      },
      "outputs": [],
      "execution_count": null
    },
    {
      "cell_type": "raw",
      "source": "Answer11. Write a class that overrides the `__str__` and `__add__` magic methods. What will these methods allow you to do?",
      "metadata": {}
    },
    {
      "cell_type": "code",
      "source": "In Python, overriding the __str__ and __add__ magic methods allows you to customize the string representation of an object and define how objects of\na class should be added together, respectively.\n\nExample Class: Vector\nLet's create a Vector class that represents a mathematical vector. We'll override __str__ to provide a nice string representation of the vector and\n__add__ to define how two vectors can be added.",
      "metadata": {
        "trusted": true
      },
      "outputs": [],
      "execution_count": null
    },
    {
      "cell_type": "code",
      "source": "class Vector:\n    def __init__(self, x, y):\n        self.x = x\n        self.y = y\n\n    def __str__(self):\n        return f\"Vector({self.x}, {self.y})\"\n\n    def __add__(self, other):\n        if isinstance(other, Vector):\n            return Vector(self.x + other.x, self.y + other.y)\n        return NotImplemented\n\n# Example usage\nvector1 = Vector(2, 3)\nvector2 = Vector(4, 5)\n\n# Using __str__ to get a readable representation of the object\nprint(vector1)  \nprint(vector2)  \n\n# Using __add__ to add two Vector objects\nresult_vector = vector1 + vector2\nprint(result_vector) ",
      "metadata": {
        "trusted": true
      },
      "outputs": [
        {
          "name": "stdout",
          "text": "Vector(2, 3)\nVector(4, 5)\nVector(6, 8)\n",
          "output_type": "stream"
        }
      ],
      "execution_count": 3
    },
    {
      "cell_type": "code",
      "source": "Explanation:\n1. __init__ Method: This is the constructor that initializes the x and y components of the vector.\n2. __str__ Method: This method is overridden to provide a string representation of the vector. When you call print(vector1), Python will invoke this method, returning a formatted string like Vector(2, 3). This makes it easier to understand what the object represents when printed.\n3. __add__ Method: This method is overridden to define how two Vector objects can be added together. If the other object is also a Vector, it returns a new Vector whose x and y components are the sums of the respective components. If the other object is not a Vector, it returns NotImplemented, which is a best practice for handling unsupported operations.\n\nUsage:\n* The __str__ method allows for clear, human-readable representations of Vector objects when printed.\n* The __add__ method enables you to use the + operator to add two Vector instances directly, making the code more intuitive and cleaner.\n\nBy implementing these magic methods, we enhance the usability and readability of our class while adhering to Python's conventions.",
      "metadata": {
        "trusted": true
      },
      "outputs": [],
      "execution_count": null
    },
    {
      "cell_type": "raw",
      "source": "Answer12. Create a decorator that measures and prints the execution time of a function.",
      "metadata": {}
    },
    {
      "cell_type": "code",
      "source": "A decorator in Python is a function that wraps another function to extend its behavior. Below is an example of a simple decorator that measures and\nprints the execution time of a function.",
      "metadata": {
        "trusted": true
      },
      "outputs": [],
      "execution_count": null
    },
    {
      "cell_type": "code",
      "source": "import time\n\ndef timer_decorator(func):\n    def wrapper(*args, **kwargs):\n        start_time = time.time()  # Record the start time\n        result = func(*args, **kwargs)  # Call the wrapped function\n        end_time = time.time()  # Record the end time\n        execution_time = end_time - start_time  # Calculate execution time\n        print(f\"Execution time of '{func.__name__}': {execution_time:.6f} seconds\")\n        return result  # Return the result of the wrapped function\n    return wrapper\n\n# Example usage of the decorator\n\n@timer_decorator\ndef sample_function(n):\n    total = 0\n    for i in range(n):\n        total += i\n    return total\n\n# Call the decorated function\nresult = sample_function(1000000)\nprint(f\"Result: {result}\")",
      "metadata": {
        "trusted": true
      },
      "outputs": [
        {
          "name": "stdout",
          "text": "Execution time of 'sample_function': 0.177000 seconds\nResult: 499999500000\n",
          "output_type": "stream"
        }
      ],
      "execution_count": 4
    },
    {
      "cell_type": "code",
      "source": "Explanation:\n1.Decorator Definition:\n* The timer_decorator function takes another function func as an argument.\n* Inside, it defines a wrapper function that will measure the execution time.\n2. Measuring Execution Time:\n* The start_time is recorded just before the function call using time.time().\n* After calling the function, the end_time is recorded.\n* The execution time is calculated as the difference between end_time and start_time.\n3. Returning the Result:\n* The result of the wrapped function is stored and returned from the wrapper.\n* The wrapper function also prints the execution time formatted to six decimal places.\n4. Using the Decorator:\n* The @timer_decorator syntax is used to apply the decorator to the sample_function. When sample_function is called, it will be wrapped by wrapper,\nwhich measures its execution time.",
      "metadata": {
        "trusted": true
      },
      "outputs": [],
      "execution_count": null
    },
    {
      "cell_type": "raw",
      "source": "Answer13. Explain the concept of the Diamond Problem in multiple inheritance. How does Python resolve it?",
      "metadata": {}
    },
    {
      "cell_type": "code",
      "source": "The Diamond Problem is a common issue that arises in programming languages that support multiple inheritance. It occurs when a class inherits from\ntwo classes that both inherit from a common base class. This can create ambiguity regarding which method or attribute to inherit from the base class,\nleading to potential conflicts.\n\nIllustration of the Diamond Problem\nConsider the following class hierarchy:",
      "metadata": {
        "trusted": true
      },
      "outputs": [],
      "execution_count": null
    },
    {
      "cell_type": "code",
      "source": "       A\n      / \\\n     B   C\n      \\ /\n       D",
      "metadata": {
        "trusted": true
      },
      "outputs": [],
      "execution_count": null
    },
    {
      "cell_type": "code",
      "source": "* A is the base class.\n* Both B and C inherit from A.\n* D inherits from both B and C.\nThe problem arises when D tries to access a method or attribute defined in A. There are two paths to reach A: through B and C. If both B and C\noverride the method from A, it becomes ambiguous which version D should inherit.\n\n###Python's Resolution\nPython uses a method resolution order (MRO) to determine the order in which classes are looked up when a method or attribute is accessed. Python\nimplements the C3 linearization algorithm to create a consistent order for resolving methods.\n1. MRO: Each class keeps track of its MRO, which defines the order in which base classes are searched when looking for a method or attribute.\n2. Single Inheritance with MRO: When accessing a method, Python will follow the MRO to determine the correct method to invoke. This ensures a\nconsistent and predictable behavior.\n3. Using the super() Function: The super() function can also be used to explicitly call a method from the next class in the MRO, which can help avoid\n    conflicts.\n\nExample Code:-\nHere's a simple demonstration of the Diamond Problem in Python:",
      "metadata": {
        "trusted": true
      },
      "outputs": [],
      "execution_count": null
    },
    {
      "cell_type": "code",
      "source": "class A:\n    def greet(self):\n        print(\"Hello from A\")\n\nclass B(A):\n    def greet(self):\n        print(\"Hello from B\")\n\nclass C(A):\n    def greet(self):\n        print(\"Hello from C\")\n\nclass D(B, C):\n    pass\n\n# Create an instance of D\nd = D()\nd.greet()",
      "metadata": {
        "trusted": true
      },
      "outputs": [
        {
          "name": "stdout",
          "text": "Hello from B\n",
          "output_type": "stream"
        }
      ],
      "execution_count": 6
    },
    {
      "cell_type": "code",
      "source": "Explanation of the Example\n* When d.greet() is called, Python looks up the MRO for class D. The MRO is determined as follows:\n* D → B → C → A\n* As a result, the method from B is called, which prints \"Hello from B\". If B did not override greet, then it would have continued to C, and finally\nto A.\n\nChecking the MRO\nYou can check the MRO of a class using the __mro__ attribute or the mro() method:",
      "metadata": {
        "trusted": true
      },
      "outputs": [],
      "execution_count": null
    },
    {
      "cell_type": "code",
      "source": "print(D.__mro__)  ",
      "metadata": {
        "trusted": true
      },
      "outputs": [
        {
          "name": "stdout",
          "text": "(<class '__main__.D'>, <class '__main__.B'>, <class '__main__.C'>, <class '__main__.A'>, <class 'object'>)\n",
          "output_type": "stream"
        }
      ],
      "execution_count": 10
    },
    {
      "cell_type": "code",
      "source": "###Summary\nThe Diamond Problem highlights the complexities of multiple inheritance, but Python's MRO and the use of super() help to manage these complexities\neffectively. This approach allows for clear and predictable behavior when methods and attributes are accessed in a multiple inheritance scenario.",
      "metadata": {
        "trusted": true
      },
      "outputs": [],
      "execution_count": null
    },
    {
      "cell_type": "raw",
      "source": "Answer14. Write a class method that keeps track of the number of instances created from a class.",
      "metadata": {}
    },
    {
      "cell_type": "code",
      "source": "You can use a class variable to keep track of the number of instances created from a class. Here's how you can implement this in Python:",
      "metadata": {
        "trusted": true
      },
      "outputs": [],
      "execution_count": null
    },
    {
      "cell_type": "code",
      "source": "class InstanceCounter:\n    instance_count = 0  # Class variable to keep track of the number of instances\n\n    def __init__(self):\n        InstanceCounter.instance_count += 1  # Increment the count each time an instance is created\n\n    @classmethod\n    def get_instance_count(cls):\n        return cls.instance_count  # Return the current count\n\n# Example usage\nobj1 = InstanceCounter()\nobj2 = InstanceCounter()\nobj3 = InstanceCounter()\n\n# Get the count of instances created\nprint(f\"Number of instances created: {InstanceCounter.get_instance_count()}\") ",
      "metadata": {
        "trusted": true
      },
      "outputs": [
        {
          "name": "stdout",
          "text": "Number of instances created: 3\n",
          "output_type": "stream"
        }
      ],
      "execution_count": 11
    },
    {
      "cell_type": "code",
      "source": "Explanation:\n1. Class Variable: instance_count is defined as a class variable, which means it is shared among all instances of the class. It starts at 0.\n2. Constructor (__init__ method): Each time an instance of InstanceCounter is created, the __init__ method increments the instance_count by 1.\n3. Class Method (get_instance_count): This method is defined with the @classmethod decorator and takes cls as its first parameter. It returns the\ncurrent value of instance_count.\n4. Example Usage: Three instances of InstanceCounter are created, and the total number of instances is retrieved and printed.\n\nThis implementation provides a straightforward way to keep track of how many instances of a class have been created, demonstrating the use of class\nvariables and class methods effectively.",
      "metadata": {
        "trusted": true
      },
      "outputs": [],
      "execution_count": null
    },
    {
      "cell_type": "raw",
      "source": "Answer15. Implement a static method in a class that checks if a given year is a leap year.",
      "metadata": {}
    },
    {
      "cell_type": "code",
      "source": "A static method in Python can be used to perform a task that doesn't require access to any instance or class-specific data. Below is an implementation\nof a class with a static method that checks if a given year is a leap year.",
      "metadata": {
        "trusted": true
      },
      "outputs": [],
      "execution_count": null
    },
    {
      "cell_type": "code",
      "source": "class YearUtils:\n    @staticmethod\n    def is_leap_year(year):\n        \"\"\"Check if the given year is a leap year.\"\"\"\n        if (year % 4 == 0 and year % 100 != 0) or (year % 400 == 0):\n            return True\n        return False\n\n# Example usage\nyear = 2024\nif YearUtils.is_leap_year(year):\n    print(f\"{year} is a leap year.\")\nelse:\n    print(f\"{year} is not a leap year.\")\n\nyear = 1900\nif YearUtils.is_leap_year(year):\n    print(f\"{year} is a leap year.\")\nelse:\n    print(f\"{year} is not a leap year.\")",
      "metadata": {
        "trusted": true
      },
      "outputs": [
        {
          "name": "stdout",
          "text": "2024 is a leap year.\n1900 is not a leap year.\n",
          "output_type": "stream"
        }
      ],
      "execution_count": 12
    },
    {
      "cell_type": "code",
      "source": "Explanation:\n1. Class Definition: The YearUtils class is created to house the static method.\n2. Static Method: The is_leap_year method is defined using the @staticmethod decorator. This method takes a single parameter, year.\n3. Leap Year Logic:\n* A year is a leap year if:\n* It is divisible by 4 and not divisible by 100, or\n* It is divisible by 400.\n* The method returns True if the year is a leap year and False otherwise.\n4. Example Usage: The method is called with different years to check if they are leap years, and the results are printed.\n\n    This implementation effectively demonstrates how to use a static method to encapsulate functionality that doesn't depend on instance data, making\nit reusable and easy to access.",
      "metadata": {
        "trusted": true
      },
      "outputs": [],
      "execution_count": null
    },
    {
      "cell_type": "code",
      "source": "",
      "metadata": {
        "trusted": true
      },
      "outputs": [],
      "execution_count": null
    }
  ]
}